{
 "cells": [
  {
   "cell_type": "code",
   "execution_count": 1,
   "metadata": {
    "collapsed": true
   },
   "outputs": [],
   "source": [
    "import urllib.request, time, re, random, hashlib\n",
    "from bs4 import BeautifulSoup \n",
    "from sklearn.feature_extraction.text import TfidfVectorizer\n",
    "from sklearn.naive_bayes import MultinomialNB\n",
    "from nltk.corpus import stopwords\n",
    "from nltk import word_tokenize\n",
    "%matplotlib osx"
   ]
  },
  {
   "cell_type": "code",
   "execution_count": 2,
   "metadata": {
    "collapsed": true
   },
   "outputs": [],
   "source": [
    "# Compassionate Caching inspired by \n",
    "# http://lethain.com/an-introduction-to-compassionate-screenscraping/\n",
    "\n",
    "last_fetched_at = None\n",
    "\n",
    "def fetch(url):\n",
    "    \"\"\"Load the url compassionately.\"\"\"\n",
    "    \n",
    "    global last_fetched_at\n",
    "    \n",
    "    url_hash = hashlib.sha1(url.encode()).hexdigest()\n",
    "    filename = 'cache-file-{}'.format(url_hash)\n",
    "    try:\n",
    "        with open(filename, 'r') as f:\n",
    "            result = f.read()\n",
    "            if len(result) > 0:\n",
    "                print(\"Retrieving from cache:\", url)\n",
    "                return result\n",
    "    except:\n",
    "        pass\n",
    "    \n",
    "    print(\"Loading:\", url)\n",
    "    wait_interval = random.randint(3000,10000)\n",
    "    if last_fetched_at is not None:\n",
    "        now = time.time()\n",
    "        elapsed = now - last_fetched_at\n",
    "        if elapsed < wait_interval:\n",
    "            time.sleep((wait_interval - elapsed)/1000)\n",
    "        \n",
    "    user_agent = 'Mozilla/5.0 (Windows NT 6.1; Win64; x64)'\n",
    "    headers = { 'User-Agent' : user_agent }\n",
    "    req = urllib.request.Request(url, headers = headers)\n",
    "    last_fetched_at = time.time()\n",
    "    with urllib.request.urlopen(req) as response:\n",
    "        result = str(response.read())\n",
    "        with open(filename, 'w') as f:\n",
    "            f.write(result)\n",
    "        return result"
   ]
  },
  {
   "cell_type": "code",
   "execution_count": 3,
   "metadata": {
    "collapsed": true
   },
   "outputs": [],
   "source": [
    "# Get a set of links for news articles\n",
    "def get_news_links(link):\n",
    "    articles = fetch(link)\n",
    "    soup = BeautifulSoup(articles, 'html.parser')\n",
    "    links = set([])\n",
    "    pattern = re.compile(r\"^http://www\\.factcheck\\.org/\\d{4}/\\d{2}/\")\n",
    "    for a in soup.find_all(\"a\"):\n",
    "        sub_link = a.get(\"href\")\n",
    "        if sub_link != None and pattern.match(sub_link):\n",
    "            links.add(sub_link)\n",
    "    return links\n",
    "\n",
    "def news_scraper(n=10):\n",
    "    links = set([])\n",
    "    for i in range(1, n+1):\n",
    "        link = \"http://www.factcheck.org/askfactcheck/page/{}/\".format(i)\n",
    "        links = links.union(get_news_links(link))\n",
    "    return links"
   ]
  },
  {
   "cell_type": "code",
   "execution_count": 4,
   "metadata": {
    "collapsed": false
   },
   "outputs": [
    {
     "name": "stdout",
     "output_type": "stream",
     "text": [
      "Loading: http://www.factcheck.org/askfactcheck/page/1/\n",
      "Loading: http://www.factcheck.org/askfactcheck/page/2/\n",
      "Loading: http://www.factcheck.org/askfactcheck/page/3/\n",
      "Loading: http://www.factcheck.org/askfactcheck/page/4/\n",
      "Loading: http://www.factcheck.org/askfactcheck/page/5/\n",
      "Loading: http://www.factcheck.org/askfactcheck/page/6/\n",
      "Loading: http://www.factcheck.org/askfactcheck/page/7/\n",
      "Loading: http://www.factcheck.org/askfactcheck/page/8/\n",
      "Loading: http://www.factcheck.org/askfactcheck/page/9/\n",
      "Loading: http://www.factcheck.org/askfactcheck/page/10/\n"
     ]
    },
    {
     "data": {
      "text/plain": [
       "100"
      ]
     },
     "execution_count": 4,
     "metadata": {},
     "output_type": "execute_result"
    }
   ],
   "source": [
    "len(news_scraper())"
   ]
  },
  {
   "cell_type": "code",
   "execution_count": 10,
   "metadata": {
    "collapsed": true
   },
   "outputs": [],
   "source": [
    "# Get a set of links for opinion articles\n",
    "def get_opinion_links(link):\n",
    "    articles = fetch(link)\n",
    "    soup = BeautifulSoup(articles, 'html.parser')\n",
    "    links = set([])\n",
    "    for a in soup.find_all(\"a\"):\n",
    "        sub_link = a.get(\"href\")\n",
    "        if sub_link != None and sub_link.startswith(\"/story/opinion/\"):\n",
    "            links.add('http://www.usatoday.com' + sub_link)\n",
    "    return links\n",
    "\n",
    "def opinion_scraper():\n",
    "    links = get_opinion_links(\"http://www.usatoday.com/opinion/\")\n",
    "    for link in links:\n",
    "        sub_set = get_opinion_links(link)\n",
    "        links = links.union(sub_set)\n",
    "    return links"
   ]
  },
  {
   "cell_type": "code",
   "execution_count": 11,
   "metadata": {
    "collapsed": false
   },
   "outputs": [
    {
     "name": "stdout",
     "output_type": "stream",
     "text": [
      "Retrieving from cache: http://www.usatoday.com/opinion/\n",
      "Retrieving from cache: http://www.usatoday.com/story/opinion/2016/02/09/trump-sanders-wins-new-hampshire-economic-anxiety-column/80088548/\n",
      "Retrieving from cache: http://www.usatoday.com/story/opinion/2016/02/15/jim-wallis-getting-personal-racism-black-lives-matter/79977654/\n",
      "Retrieving from cache: http://www.usatoday.com/story/opinion/2016/02/14/martin-shkreli-cam-newton-second-look-your-say/80383482/\n",
      "Retrieving from cache: http://www.usatoday.com/story/opinion/2016/02/10/hillary-clintons-woman-problem-column/80175130/\n",
      "Retrieving from cache: http://www.usatoday.com/story/opinion/2016/02/10/colbert-noah-fallon-kimmel-corden-sanders-trump-punchlines-new-hampshire/80179418/\n",
      "Retrieving from cache: http://www.usatoday.com/story/opinion/2016/02/12/valentines-day-jimmy-kimmel-james-corden-punchlines-funny/80289898/\n",
      "Retrieving from cache: http://www.usatoday.com/story/opinion/2016/02/11/hillary-clinton-speeches-goldman-sachs-wall-street-speaking-fees-editorials-debates/80233010/\n",
      "Retrieving from cache: http://www.usatoday.com/story/opinion/2016/02/15/american-kennel-club-westminster-kennel-club-dog-show-editorials-debates/80401688/\n",
      "Retrieving from cache: http://www.usatoday.com/story/opinion/2016/02/13/scalia-death-appreciation-politics-nomination-glenn-reynolds-column/80350008/\n",
      "Retrieving from cache: http://www.usatoday.com/story/opinion/voices/2016/02/10/voices-staying-safe-dangerous-venues/80170178/\n",
      "Retrieving from cache: http://www.usatoday.com/story/opinion/2016/02/14/religion-politics-gender-tellusatoday-your-say/80383622/\n",
      "Retrieving from cache: http://www.usatoday.com/story/opinion/2016/02/14/antonin-scalia-2016-presidential-election-voters-editorials-debates/80382050/\n",
      "Retrieving from cache: http://www.usatoday.com/story/opinion/2016/02/15/john-oliver-colin-jost-michael-che-punchlines-democracy-voting/80405220/\n",
      "Retrieving from cache: http://www.usatoday.com/story/opinion/2016/02/15/hillary-clinton-feminism-sexism-bernie-bros-democratic-primary-2016-column/80374526/\n",
      "Retrieving from cache: http://www.usatoday.com/story/opinion/2016/02/14/justice-antonin-scalia-president-obama-mitch-mcconnell-editorials-debates/80375514/\n",
      "Retrieving from cache: http://www.usatoday.com/story/opinion/2016/02/15/dogs-breeding-westminster-kennel-american-kennel-club-editorials-debates/80373002/\n",
      "Retrieving from cache: http://www.usatoday.com/story/opinion/2016/02/15/antonin-scalia-supreme-court-recess-appointment-nomination-politics-obama-column/80379796/\n",
      "Retrieving from cache: http://www.usatoday.com/story/opinion/2016/02/10/oil-prices-gasoline-revenue-american-petroleum-institute-editorials-debates/80193760/\n",
      "Retrieving from cache: http://www.usatoday.com/story/opinion/voices/2016/02/15/voices-gomez-honduras-violence-central-america-unaccompanied-minors-immigration/80212272/\n",
      "Retrieving from cache: http://www.usatoday.com/story/opinion/2016/02/09/bernie-sanders-hillary-clinton-new-hampshire-column/80094342/\n",
      "Retrieving from cache: http://www.usatoday.com/story/opinion/2016/02/11/hillary-clinton-bernie-sanders-wall-street-lanny-davis-editorials-debates/80253414/\n",
      "Retrieving from cache: http://www.usatoday.com/story/opinion/2016/02/14/oil-tax-transportation-president-obama-your-say/80383560/\n",
      "Retrieving from cache: http://www.usatoday.com/story/opinion/2016/02/10/new-hampshire-primary-donald-trump-bernie-sanders-tellusatoday-your-say/80202062/\n",
      "Retrieving from cache: http://www.usatoday.com/story/opinion/2016/02/14/bernie-sanders-henry-kissinger-richard-nixon-democratic-debate-column/80372646/\n",
      "Retrieving from cache: http://www.usatoday.com/story/opinion/2016/02/09/our-votes-matter-voter-id-citizens-united-voting-rights-act-democracy-awakens-column/80068028/\n",
      "Retrieving from cache: http://www.usatoday.com/story/opinion/2016/02/13/valentines-day-romance-marraige-flowers-fracking-column/80234586/\n",
      "Retrieving from cache: http://www.usatoday.com/story/opinion/2016/02/12/ligo-discovery-impossible-without-public-funding-gravitational-waves-column/80253446/\n",
      "Retrieving from cache: http://www.usatoday.com/story/opinion/2016/02/10/anthem-cruise-ship-storm-your-say/80202290/\n",
      "Retrieving from cache: http://www.usatoday.com/story/opinion/2016/02/14/antonin-scalia-death-supreme-court-nomination-senate-obama-gonzales-column/80378246/\n",
      "Retrieving from cache: http://www.usatoday.com/story/opinion/2016/02/14/why-i-wrote-play-antonin-scalia-originalist-john-strand/80374808/\n",
      "Retrieving from cache: http://www.usatoday.com/story/opinion/2016/02/12/lindberg-draft-conscription-women-all-volunteer-force-courage-virtue-column/80169484/\n",
      "Retrieving from cache: http://www.usatoday.com/story/opinion/2016/02/15/trump-has-no-idea-how-to-be-president-stephen-hess/80401590/\n",
      "Retrieving from cache: http://www.usatoday.com/story/opinion/2016/02/11/wesley-clark-russia-assadsyria-obama-conflict-column/80228140/\n",
      "Retrieving from cache: http://www.usatoday.com/story/opinion/2015/05/25/caption-contest-youtoon/1568271/\n",
      "Retrieving from cache: http://www.usatoday.com/story/opinion/2016/02/13/scalia-text-legacy-clerk-steven-calabresi-column/80349810/\n",
      "Retrieving from cache: http://www.usatoday.com/story/opinion/2016/02/14/scalia-defining-moment-minority-rights-stephen-henderson/80372366/\n",
      "Retrieving from cache: http://www.usatoday.com/story/opinion/2016/02/12/top-threat-kurds-economy-not-isil-column/80228512/\n",
      "Retrieving from cache: http://www.usatoday.com/story/opinion/2016/02/11/federal-budget-obama-deficits-debt-tellusatoday-your-say/80253310/\n",
      "Retrieving from cache: http://www.usatoday.com/story/opinion/2016/02/09/new-hampshire-primary-donald-trump-bernie-sanders-editorials-debates/80091284/\n",
      "Retrieving from cache: http://www.usatoday.com/story/opinion/2016/02/15/supreme-court-fight-assures-ugly-end-obama-era-david-corn-antonin-scalia-column/80374474/\n",
      "Retrieving from cache: http://www.usatoday.com/story/opinion/2016/02/10/oil-tax-10-barrel-infrastructure-president-obama-climate-change-editorials-debates/80056688/\n",
      "Retrieving from cache: http://www.usatoday.com/story/opinion/2016/02/11/glenn-reynolds-socialism-bernie-sanders-young-millennial-voters-column/80169668/\n",
      "Retrieving from cache: http://www.usatoday.com/story/opinion/2016/02/11/obama-budget-children-summer-food-hope-change-david-cay-johnston/80199860/\n"
     ]
    },
    {
     "data": {
      "text/plain": [
       "{'http://www.usatoday.com/story/opinion/2014/08/28/russia-ukraine-nato-vladimir-putin-president-obama-editorials-debates/14766425/',\n",
       " 'http://www.usatoday.com/story/opinion/2015/05/25/caption-contest-youtoon/1568271/',\n",
       " 'http://www.usatoday.com/story/opinion/2015/07/23/highway-funding-oil-gasoline-tax-fix-congress-editorials-debates/30579385/',\n",
       " 'http://www.usatoday.com/story/opinion/2016/02/08/cal-thomas-elections-2016-god-religion-politics-evangelical-voters-column/79943324/',\n",
       " 'http://www.usatoday.com/story/opinion/2016/02/08/martin-shkreli-drug-prices-your-say/80026236/',\n",
       " 'http://www.usatoday.com/story/opinion/2016/02/09/bernie-sanders-hillary-clinton-new-hampshire-column/80094342/',\n",
       " 'http://www.usatoday.com/story/opinion/2016/02/09/new-hampshire-primary-donald-trump-bernie-sanders-editorials-debates/80091284/',\n",
       " 'http://www.usatoday.com/story/opinion/2016/02/09/our-votes-matter-voter-id-citizens-united-voting-rights-act-democracy-awakens-column/80068028/',\n",
       " 'http://www.usatoday.com/story/opinion/2016/02/09/trump-sanders-wins-new-hampshire-economic-anxiety-column/80088548/',\n",
       " 'http://www.usatoday.com/story/opinion/2016/02/10/anthem-cruise-ship-storm-your-say/80202290/',\n",
       " 'http://www.usatoday.com/story/opinion/2016/02/10/colbert-noah-fallon-kimmel-corden-sanders-trump-punchlines-new-hampshire/80179418/',\n",
       " 'http://www.usatoday.com/story/opinion/2016/02/10/hillary-clintons-woman-problem-column/80175130/',\n",
       " 'http://www.usatoday.com/story/opinion/2016/02/10/new-hampshire-primary-donald-trump-bernie-sanders-tellusatoday-your-say/80202062/',\n",
       " 'http://www.usatoday.com/story/opinion/2016/02/10/oil-prices-gasoline-revenue-american-petroleum-institute-editorials-debates/80193760/',\n",
       " 'http://www.usatoday.com/story/opinion/2016/02/10/oil-tax-10-barrel-infrastructure-president-obama-climate-change-editorials-debates/80056688/',\n",
       " 'http://www.usatoday.com/story/opinion/2016/02/11/federal-budget-obama-deficits-debt-tellusatoday-your-say/80253310/',\n",
       " 'http://www.usatoday.com/story/opinion/2016/02/11/glenn-reynolds-socialism-bernie-sanders-young-millennial-voters-column/80169668/',\n",
       " 'http://www.usatoday.com/story/opinion/2016/02/11/hillary-clinton-bernie-sanders-wall-street-lanny-davis-editorials-debates/80253414/',\n",
       " 'http://www.usatoday.com/story/opinion/2016/02/11/hillary-clinton-speeches-goldman-sachs-wall-street-speaking-fees-editorials-debates/80233010/',\n",
       " 'http://www.usatoday.com/story/opinion/2016/02/11/obama-budget-children-summer-food-hope-change-david-cay-johnston/80199860/',\n",
       " 'http://www.usatoday.com/story/opinion/2016/02/11/wesley-clark-russia-assadsyria-obama-conflict-column/80228140/',\n",
       " 'http://www.usatoday.com/story/opinion/2016/02/12/ligo-discovery-impossible-without-public-funding-gravitational-waves-column/80253446/',\n",
       " 'http://www.usatoday.com/story/opinion/2016/02/12/lindberg-draft-conscription-women-all-volunteer-force-courage-virtue-column/80169484/',\n",
       " 'http://www.usatoday.com/story/opinion/2016/02/12/top-threat-kurds-economy-not-isil-column/80228512/',\n",
       " 'http://www.usatoday.com/story/opinion/2016/02/12/valentines-day-jimmy-kimmel-james-corden-punchlines-funny/80289898/',\n",
       " 'http://www.usatoday.com/story/opinion/2016/02/13/scalia-death-appreciation-politics-nomination-glenn-reynolds-column/80350008/',\n",
       " 'http://www.usatoday.com/story/opinion/2016/02/13/scalia-text-legacy-clerk-steven-calabresi-column/80349810/',\n",
       " 'http://www.usatoday.com/story/opinion/2016/02/13/valentines-day-romance-marraige-flowers-fracking-column/80234586/',\n",
       " 'http://www.usatoday.com/story/opinion/2016/02/14/antonin-scalia-2016-presidential-election-voters-editorials-debates/80382050/',\n",
       " 'http://www.usatoday.com/story/opinion/2016/02/14/antonin-scalia-death-supreme-court-nomination-senate-obama-gonzales-column/80378246/',\n",
       " 'http://www.usatoday.com/story/opinion/2016/02/14/bernie-sanders-henry-kissinger-richard-nixon-democratic-debate-column/80372646/',\n",
       " 'http://www.usatoday.com/story/opinion/2016/02/14/justice-antonin-scalia-president-obama-mitch-mcconnell-editorials-debates/80375514/',\n",
       " 'http://www.usatoday.com/story/opinion/2016/02/14/martin-shkreli-cam-newton-second-look-your-say/80383482/',\n",
       " 'http://www.usatoday.com/story/opinion/2016/02/14/oil-tax-transportation-president-obama-your-say/80383560/',\n",
       " 'http://www.usatoday.com/story/opinion/2016/02/14/religion-politics-gender-tellusatoday-your-say/80383622/',\n",
       " 'http://www.usatoday.com/story/opinion/2016/02/14/scalia-defining-moment-minority-rights-stephen-henderson/80372366/',\n",
       " 'http://www.usatoday.com/story/opinion/2016/02/14/why-i-wrote-play-antonin-scalia-originalist-john-strand/80374808/',\n",
       " 'http://www.usatoday.com/story/opinion/2016/02/15/american-kennel-club-westminster-kennel-club-dog-show-editorials-debates/80401688/',\n",
       " 'http://www.usatoday.com/story/opinion/2016/02/15/antonin-scalia-supreme-court-recess-appointment-nomination-politics-obama-column/80379796/',\n",
       " 'http://www.usatoday.com/story/opinion/2016/02/15/dogs-breeding-westminster-kennel-american-kennel-club-editorials-debates/80373002/',\n",
       " 'http://www.usatoday.com/story/opinion/2016/02/15/hillary-clinton-feminism-sexism-bernie-bros-democratic-primary-2016-column/80374526/',\n",
       " 'http://www.usatoday.com/story/opinion/2016/02/15/jim-wallis-getting-personal-racism-black-lives-matter/79977654/',\n",
       " 'http://www.usatoday.com/story/opinion/2016/02/15/john-oliver-colin-jost-michael-che-punchlines-democracy-voting/80405220/',\n",
       " 'http://www.usatoday.com/story/opinion/2016/02/15/supreme-court-fight-assures-ugly-end-obama-era-david-corn-antonin-scalia-column/80374474/',\n",
       " 'http://www.usatoday.com/story/opinion/2016/02/15/trump-has-no-idea-how-to-be-president-stephen-hess/80401590/',\n",
       " 'http://www.usatoday.com/story/opinion/columnists/stephen-henderson/2016/02/13/moments-defined-scalia-and-should-define-legacy/80355476/',\n",
       " 'http://www.usatoday.com/story/opinion/voices/2016/02/10/voices-staying-safe-dangerous-venues/80170178/',\n",
       " 'http://www.usatoday.com/story/opinion/voices/2016/02/15/voices-gomez-honduras-violence-central-america-unaccompanied-minors-immigration/80212272/'}"
      ]
     },
     "execution_count": 11,
     "metadata": {},
     "output_type": "execute_result"
    }
   ],
   "source": [
    "opinion_scraper()"
   ]
  },
  {
   "cell_type": "code",
   "execution_count": 7,
   "metadata": {
    "collapsed": true
   },
   "outputs": [],
   "source": [
    "def get_words(article_html):\n",
    "    \"\"\"Return list of representative words from an article. \"\"\"\n",
    "    bag_of_words = []\n",
    "    soupify_article = BeautifulSoup(article_html, 'html.parser')\n",
    "    paragraphs = soupify_article.find_all('p',attrs={'class':None})\n",
    "    for p in paragraphs:\n",
    "        if p.parent.name != 'a':\n",
    "            words = word_tokenize(p.text)\n",
    "            filtered_words = [w.lower() for w in words if w.isalpha()]\n",
    "            filtered_stop_words = [w for w in filtered_words if w not in stopwords.words('english')]\n",
    "            bag_of_words += filtered_stop_words\n",
    "    return bag_of_words"
   ]
  },
  {
   "cell_type": "code",
   "execution_count": 10,
   "metadata": {
    "collapsed": true
   },
   "outputs": [],
   "source": [
    "OPINION = 1\n",
    "NEWS = 0\n",
    "def build_corpus():\n",
    "    opinion = [(get_words(fetch(link)), OPINION) for link in opinion_scraper()]\n",
    "    news = [(get_words(fetch(link)), NEWS) for link in news_scraper()]\n",
    "    corpus = news + opinion\n",
    "    random.shuffle(corpus)\n",
    "    return corpus"
   ]
  },
  {
   "cell_type": "code",
   "execution_count": 12,
   "metadata": {
    "collapsed": true
   },
   "outputs": [
    {
     "name": "stdout",
     "output_type": "stream",
     "text": [
      "Retrieving from cache: http://www.usatoday.com/opinion/\n",
      "Retrieving from cache: http://www.usatoday.com/story/opinion/2016/02/09/trump-sanders-wins-new-hampshire-economic-anxiety-column/80088548/\n",
      "Retrieving from cache: http://www.usatoday.com/story/opinion/2016/02/15/jim-wallis-getting-personal-racism-black-lives-matter/79977654/\n",
      "Retrieving from cache: http://www.usatoday.com/story/opinion/2016/02/14/martin-shkreli-cam-newton-second-look-your-say/80383482/\n",
      "Retrieving from cache: http://www.usatoday.com/story/opinion/2016/02/10/hillary-clintons-woman-problem-column/80175130/\n",
      "Retrieving from cache: http://www.usatoday.com/story/opinion/2016/02/10/colbert-noah-fallon-kimmel-corden-sanders-trump-punchlines-new-hampshire/80179418/\n",
      "Retrieving from cache: http://www.usatoday.com/story/opinion/2016/02/12/valentines-day-jimmy-kimmel-james-corden-punchlines-funny/80289898/\n",
      "Retrieving from cache: http://www.usatoday.com/story/opinion/2016/02/11/hillary-clinton-speeches-goldman-sachs-wall-street-speaking-fees-editorials-debates/80233010/\n",
      "Retrieving from cache: http://www.usatoday.com/story/opinion/2016/02/15/american-kennel-club-westminster-kennel-club-dog-show-editorials-debates/80401688/\n",
      "Retrieving from cache: http://www.usatoday.com/story/opinion/2016/02/13/scalia-death-appreciation-politics-nomination-glenn-reynolds-column/80350008/\n",
      "Retrieving from cache: http://www.usatoday.com/story/opinion/voices/2016/02/10/voices-staying-safe-dangerous-venues/80170178/\n",
      "Retrieving from cache: http://www.usatoday.com/story/opinion/2016/02/14/religion-politics-gender-tellusatoday-your-say/80383622/\n",
      "Retrieving from cache: http://www.usatoday.com/story/opinion/2016/02/14/antonin-scalia-2016-presidential-election-voters-editorials-debates/80382050/\n",
      "Retrieving from cache: http://www.usatoday.com/story/opinion/2016/02/15/john-oliver-colin-jost-michael-che-punchlines-democracy-voting/80405220/\n",
      "Retrieving from cache: http://www.usatoday.com/story/opinion/2016/02/15/hillary-clinton-feminism-sexism-bernie-bros-democratic-primary-2016-column/80374526/\n",
      "Retrieving from cache: http://www.usatoday.com/story/opinion/2016/02/14/justice-antonin-scalia-president-obama-mitch-mcconnell-editorials-debates/80375514/\n",
      "Retrieving from cache: http://www.usatoday.com/story/opinion/2016/02/15/dogs-breeding-westminster-kennel-american-kennel-club-editorials-debates/80373002/\n",
      "Retrieving from cache: http://www.usatoday.com/story/opinion/2016/02/15/antonin-scalia-supreme-court-recess-appointment-nomination-politics-obama-column/80379796/\n",
      "Retrieving from cache: http://www.usatoday.com/story/opinion/2016/02/10/oil-prices-gasoline-revenue-american-petroleum-institute-editorials-debates/80193760/\n",
      "Retrieving from cache: http://www.usatoday.com/story/opinion/voices/2016/02/15/voices-gomez-honduras-violence-central-america-unaccompanied-minors-immigration/80212272/\n",
      "Retrieving from cache: http://www.usatoday.com/story/opinion/2016/02/09/bernie-sanders-hillary-clinton-new-hampshire-column/80094342/\n",
      "Retrieving from cache: http://www.usatoday.com/story/opinion/2016/02/11/hillary-clinton-bernie-sanders-wall-street-lanny-davis-editorials-debates/80253414/\n",
      "Retrieving from cache: http://www.usatoday.com/story/opinion/2016/02/14/oil-tax-transportation-president-obama-your-say/80383560/\n",
      "Retrieving from cache: http://www.usatoday.com/story/opinion/2016/02/10/new-hampshire-primary-donald-trump-bernie-sanders-tellusatoday-your-say/80202062/\n",
      "Retrieving from cache: http://www.usatoday.com/story/opinion/2016/02/14/bernie-sanders-henry-kissinger-richard-nixon-democratic-debate-column/80372646/\n",
      "Retrieving from cache: http://www.usatoday.com/story/opinion/2016/02/09/our-votes-matter-voter-id-citizens-united-voting-rights-act-democracy-awakens-column/80068028/\n",
      "Retrieving from cache: http://www.usatoday.com/story/opinion/2016/02/13/valentines-day-romance-marraige-flowers-fracking-column/80234586/\n",
      "Retrieving from cache: http://www.usatoday.com/story/opinion/2016/02/12/ligo-discovery-impossible-without-public-funding-gravitational-waves-column/80253446/\n",
      "Retrieving from cache: http://www.usatoday.com/story/opinion/2016/02/10/anthem-cruise-ship-storm-your-say/80202290/\n",
      "Retrieving from cache: http://www.usatoday.com/story/opinion/2016/02/14/antonin-scalia-death-supreme-court-nomination-senate-obama-gonzales-column/80378246/\n",
      "Retrieving from cache: http://www.usatoday.com/story/opinion/2016/02/14/why-i-wrote-play-antonin-scalia-originalist-john-strand/80374808/\n",
      "Retrieving from cache: http://www.usatoday.com/story/opinion/2016/02/12/lindberg-draft-conscription-women-all-volunteer-force-courage-virtue-column/80169484/\n",
      "Retrieving from cache: http://www.usatoday.com/story/opinion/2016/02/15/trump-has-no-idea-how-to-be-president-stephen-hess/80401590/\n",
      "Retrieving from cache: http://www.usatoday.com/story/opinion/2016/02/11/wesley-clark-russia-assadsyria-obama-conflict-column/80228140/\n",
      "Retrieving from cache: http://www.usatoday.com/story/opinion/2015/05/25/caption-contest-youtoon/1568271/\n",
      "Retrieving from cache: http://www.usatoday.com/story/opinion/2016/02/13/scalia-text-legacy-clerk-steven-calabresi-column/80349810/\n",
      "Retrieving from cache: http://www.usatoday.com/story/opinion/2016/02/14/scalia-defining-moment-minority-rights-stephen-henderson/80372366/\n",
      "Retrieving from cache: http://www.usatoday.com/story/opinion/2016/02/12/top-threat-kurds-economy-not-isil-column/80228512/\n",
      "Retrieving from cache: http://www.usatoday.com/story/opinion/2016/02/11/federal-budget-obama-deficits-debt-tellusatoday-your-say/80253310/\n",
      "Retrieving from cache: http://www.usatoday.com/story/opinion/2016/02/09/new-hampshire-primary-donald-trump-bernie-sanders-editorials-debates/80091284/\n",
      "Retrieving from cache: http://www.usatoday.com/story/opinion/2016/02/15/supreme-court-fight-assures-ugly-end-obama-era-david-corn-antonin-scalia-column/80374474/\n",
      "Retrieving from cache: http://www.usatoday.com/story/opinion/2016/02/10/oil-tax-10-barrel-infrastructure-president-obama-climate-change-editorials-debates/80056688/\n",
      "Retrieving from cache: http://www.usatoday.com/story/opinion/2016/02/11/glenn-reynolds-socialism-bernie-sanders-young-millennial-voters-column/80169668/\n",
      "Retrieving from cache: http://www.usatoday.com/story/opinion/2016/02/11/obama-budget-children-summer-food-hope-change-david-cay-johnston/80199860/\n"
     ]
    },
    {
     "ename": "NameError",
     "evalue": "name 'get_words' is not defined",
     "output_type": "error",
     "traceback": [
      "\u001b[0;31m---------------------------------------------------------------------------\u001b[0m",
      "\u001b[0;31mNameError\u001b[0m                                 Traceback (most recent call last)",
      "\u001b[0;32m<ipython-input-12-fdc1d0ddabf2>\u001b[0m in \u001b[0;36m<module>\u001b[0;34m()\u001b[0m\n\u001b[1;32m      4\u001b[0m     \u001b[0mnews\u001b[0m \u001b[0;34m=\u001b[0m \u001b[0;34m[\u001b[0m\u001b[0;34m(\u001b[0m\u001b[0mword\u001b[0m\u001b[0;34m,\u001b[0m \u001b[0mNEWS\u001b[0m\u001b[0;34m)\u001b[0m \u001b[0;32mfor\u001b[0m \u001b[0mlink\u001b[0m \u001b[0;32min\u001b[0m \u001b[0mnews_scraper\u001b[0m\u001b[0;34m(\u001b[0m\u001b[0;34m)\u001b[0m \u001b[0;32mfor\u001b[0m \u001b[0mword\u001b[0m \u001b[0;32min\u001b[0m \u001b[0mget_words\u001b[0m\u001b[0;34m(\u001b[0m\u001b[0mfetch\u001b[0m\u001b[0;34m(\u001b[0m\u001b[0mlink\u001b[0m\u001b[0;34m)\u001b[0m\u001b[0;34m)\u001b[0m \u001b[0;34m]\u001b[0m\u001b[0;34m\u001b[0m\u001b[0m\n\u001b[1;32m      5\u001b[0m     \u001b[0;32mreturn\u001b[0m \u001b[0mopinion\u001b[0m\u001b[0;34m\u001b[0m\u001b[0m\n\u001b[0;32m----> 6\u001b[0;31m \u001b[0md\u001b[0m \u001b[0;34m=\u001b[0m \u001b[0mbuild_word_corpus\u001b[0m\u001b[0;34m(\u001b[0m\u001b[0;34m)\u001b[0m\u001b[0;34m\u001b[0m\u001b[0m\n\u001b[0m\u001b[1;32m      7\u001b[0m \u001b[0mprint\u001b[0m\u001b[0;34m(\u001b[0m\u001b[0md\u001b[0m\u001b[0;34m[\u001b[0m\u001b[0;34m:\u001b[0m\u001b[0;36m10\u001b[0m\u001b[0;34m]\u001b[0m\u001b[0;34m)\u001b[0m\u001b[0;34m\u001b[0m\u001b[0m\n",
      "\u001b[0;32m<ipython-input-12-fdc1d0ddabf2>\u001b[0m in \u001b[0;36mbuild_word_corpus\u001b[0;34m()\u001b[0m\n\u001b[1;32m      1\u001b[0m \u001b[0;32mdef\u001b[0m \u001b[0mbuild_word_corpus\u001b[0m\u001b[0;34m(\u001b[0m\u001b[0;34m)\u001b[0m\u001b[0;34m:\u001b[0m\u001b[0;34m\u001b[0m\u001b[0m\n\u001b[1;32m      2\u001b[0m     \u001b[0;34m'''for each word record if it appears in opinion or in news'''\u001b[0m\u001b[0;34m\u001b[0m\u001b[0m\n\u001b[0;32m----> 3\u001b[0;31m     \u001b[0mopinion\u001b[0m \u001b[0;34m=\u001b[0m \u001b[0;34m[\u001b[0m\u001b[0;34m(\u001b[0m\u001b[0mword\u001b[0m\u001b[0;34m,\u001b[0m \u001b[0mOPINION\u001b[0m\u001b[0;34m)\u001b[0m \u001b[0;32mfor\u001b[0m \u001b[0mlink\u001b[0m \u001b[0;32min\u001b[0m \u001b[0mopinion_scraper\u001b[0m\u001b[0;34m(\u001b[0m\u001b[0;34m)\u001b[0m \u001b[0;32mfor\u001b[0m \u001b[0mword\u001b[0m \u001b[0;32min\u001b[0m \u001b[0mget_words\u001b[0m\u001b[0;34m(\u001b[0m\u001b[0mfetch\u001b[0m\u001b[0;34m(\u001b[0m\u001b[0mlink\u001b[0m\u001b[0;34m)\u001b[0m\u001b[0;34m)\u001b[0m \u001b[0;34m]\u001b[0m\u001b[0;34m\u001b[0m\u001b[0m\n\u001b[0m\u001b[1;32m      4\u001b[0m     \u001b[0mnews\u001b[0m \u001b[0;34m=\u001b[0m \u001b[0;34m[\u001b[0m\u001b[0;34m(\u001b[0m\u001b[0mword\u001b[0m\u001b[0;34m,\u001b[0m \u001b[0mNEWS\u001b[0m\u001b[0;34m)\u001b[0m \u001b[0;32mfor\u001b[0m \u001b[0mlink\u001b[0m \u001b[0;32min\u001b[0m \u001b[0mnews_scraper\u001b[0m\u001b[0;34m(\u001b[0m\u001b[0;34m)\u001b[0m \u001b[0;32mfor\u001b[0m \u001b[0mword\u001b[0m \u001b[0;32min\u001b[0m \u001b[0mget_words\u001b[0m\u001b[0;34m(\u001b[0m\u001b[0mfetch\u001b[0m\u001b[0;34m(\u001b[0m\u001b[0mlink\u001b[0m\u001b[0;34m)\u001b[0m\u001b[0;34m)\u001b[0m \u001b[0;34m]\u001b[0m\u001b[0;34m\u001b[0m\u001b[0m\n\u001b[1;32m      5\u001b[0m     \u001b[0;32mreturn\u001b[0m \u001b[0mopinion\u001b[0m\u001b[0;34m\u001b[0m\u001b[0m\n",
      "\u001b[0;32m<ipython-input-12-fdc1d0ddabf2>\u001b[0m in \u001b[0;36m<listcomp>\u001b[0;34m(.0)\u001b[0m\n\u001b[1;32m      1\u001b[0m \u001b[0;32mdef\u001b[0m \u001b[0mbuild_word_corpus\u001b[0m\u001b[0;34m(\u001b[0m\u001b[0;34m)\u001b[0m\u001b[0;34m:\u001b[0m\u001b[0;34m\u001b[0m\u001b[0m\n\u001b[1;32m      2\u001b[0m     \u001b[0;34m'''for each word record if it appears in opinion or in news'''\u001b[0m\u001b[0;34m\u001b[0m\u001b[0m\n\u001b[0;32m----> 3\u001b[0;31m     \u001b[0mopinion\u001b[0m \u001b[0;34m=\u001b[0m \u001b[0;34m[\u001b[0m\u001b[0;34m(\u001b[0m\u001b[0mword\u001b[0m\u001b[0;34m,\u001b[0m \u001b[0mOPINION\u001b[0m\u001b[0;34m)\u001b[0m \u001b[0;32mfor\u001b[0m \u001b[0mlink\u001b[0m \u001b[0;32min\u001b[0m \u001b[0mopinion_scraper\u001b[0m\u001b[0;34m(\u001b[0m\u001b[0;34m)\u001b[0m \u001b[0;32mfor\u001b[0m \u001b[0mword\u001b[0m \u001b[0;32min\u001b[0m \u001b[0mget_words\u001b[0m\u001b[0;34m(\u001b[0m\u001b[0mfetch\u001b[0m\u001b[0;34m(\u001b[0m\u001b[0mlink\u001b[0m\u001b[0;34m)\u001b[0m\u001b[0;34m)\u001b[0m \u001b[0;34m]\u001b[0m\u001b[0;34m\u001b[0m\u001b[0m\n\u001b[0m\u001b[1;32m      4\u001b[0m     \u001b[0mnews\u001b[0m \u001b[0;34m=\u001b[0m \u001b[0;34m[\u001b[0m\u001b[0;34m(\u001b[0m\u001b[0mword\u001b[0m\u001b[0;34m,\u001b[0m \u001b[0mNEWS\u001b[0m\u001b[0;34m)\u001b[0m \u001b[0;32mfor\u001b[0m \u001b[0mlink\u001b[0m \u001b[0;32min\u001b[0m \u001b[0mnews_scraper\u001b[0m\u001b[0;34m(\u001b[0m\u001b[0;34m)\u001b[0m \u001b[0;32mfor\u001b[0m \u001b[0mword\u001b[0m \u001b[0;32min\u001b[0m \u001b[0mget_words\u001b[0m\u001b[0;34m(\u001b[0m\u001b[0mfetch\u001b[0m\u001b[0;34m(\u001b[0m\u001b[0mlink\u001b[0m\u001b[0;34m)\u001b[0m\u001b[0;34m)\u001b[0m \u001b[0;34m]\u001b[0m\u001b[0;34m\u001b[0m\u001b[0m\n\u001b[1;32m      5\u001b[0m     \u001b[0;32mreturn\u001b[0m \u001b[0mopinion\u001b[0m\u001b[0;34m\u001b[0m\u001b[0m\n",
      "\u001b[0;31mNameError\u001b[0m: name 'get_words' is not defined"
     ]
    }
   ],
   "source": [
    "def build_word_corpus():\n",
    "    '''for each word record if it appears in opinion or in news'''\n",
    "    opinion = [(word, OPINION) for link in opinion_scraper() for word in get_words(fetch(link)) ]\n",
    "    news = [(word, NEWS) for link in news_scraper() for word in get_words(fetch(link)) ]\n",
    "    return opinion\n",
    "d = build_word_corpus()\n",
    "print(d[:10])"
   ]
  },
  {
   "cell_type": "code",
   "execution_count": 11,
   "metadata": {
    "collapsed": true
   },
   "outputs": [
    {
     "name": "stdout",
     "output_type": "stream",
     "text": [
      "Retrieving from cache: http://www.usatoday.com/opinion/\n",
      "Retrieving from cache: http://www.usatoday.com/story/opinion/2016/02/10/oil-tax-10-barrel-infrastructure-president-obama-climate-change-editorials-debates/80056688/\n",
      "Retrieving from cache: http://www.usatoday.com/story/opinion/2016/02/11/hillary-clinton-bernie-sanders-wall-street-lanny-davis-editorials-debates/80253414/\n",
      "Retrieving from cache: http://www.usatoday.com/story/opinion/2016/02/14/why-i-wrote-play-antonin-scalia-originalist-john-strand/80374808/\n",
      "Retrieving from cache: http://www.usatoday.com/story/opinion/2016/02/11/federal-budget-obama-deficits-debt-tellusatoday-your-say/80253310/\n",
      "Retrieving from cache: http://www.usatoday.com/story/opinion/2016/02/14/antonin-scalia-2016-presidential-election-voters-editorials-debates/80382050/\n",
      "Retrieving from cache: http://www.usatoday.com/story/opinion/2016/02/11/obama-budget-children-summer-food-hope-change-david-cay-johnston/80199860/\n",
      "Retrieving from cache: http://www.usatoday.com/story/opinion/2015/05/25/caption-contest-youtoon/1568271/\n",
      "Retrieving from cache: http://www.usatoday.com/story/opinion/2016/02/14/scalia-defining-moment-minority-rights-stephen-henderson/80372366/\n",
      "Retrieving from cache: http://www.usatoday.com/story/opinion/2016/02/12/top-threat-kurds-economy-not-isil-column/80228512/\n",
      "Retrieving from cache: http://www.usatoday.com/story/opinion/2016/02/15/jim-wallis-getting-personal-racism-black-lives-matter/79977654/\n",
      "Retrieving from cache: http://www.usatoday.com/story/opinion/2016/02/12/lindberg-draft-conscription-women-all-volunteer-force-courage-virtue-column/80169484/\n",
      "Retrieving from cache: http://www.usatoday.com/story/opinion/2016/02/15/hillary-clinton-feminism-sexism-bernie-bros-democratic-primary-2016-column/80374526/\n",
      "Retrieving from cache: http://www.usatoday.com/story/opinion/2016/02/09/our-votes-matter-voter-id-citizens-united-voting-rights-act-democracy-awakens-column/80068028/\n",
      "Retrieving from cache: http://www.usatoday.com/story/opinion/voices/2016/02/10/voices-staying-safe-dangerous-venues/80170178/\n",
      "Retrieving from cache: http://www.usatoday.com/story/opinion/2016/02/13/scalia-death-appreciation-politics-nomination-glenn-reynolds-column/80350008/\n",
      "Retrieving from cache: http://www.usatoday.com/story/opinion/2016/02/14/martin-shkreli-cam-newton-second-look-your-say/80383482/\n",
      "Retrieving from cache: http://www.usatoday.com/story/opinion/2016/02/15/american-kennel-club-westminster-kennel-club-dog-show-editorials-debates/80401688/\n",
      "Retrieving from cache: http://www.usatoday.com/story/opinion/2016/02/14/oil-tax-transportation-president-obama-your-say/80383560/\n",
      "Retrieving from cache: http://www.usatoday.com/story/opinion/2016/02/10/oil-prices-gasoline-revenue-american-petroleum-institute-editorials-debates/80193760/\n",
      "Retrieving from cache: http://www.usatoday.com/story/opinion/2016/02/10/anthem-cruise-ship-storm-your-say/80202290/\n",
      "Retrieving from cache: http://www.usatoday.com/story/opinion/2016/02/15/john-oliver-colin-jost-michael-che-punchlines-democracy-voting/80405220/\n",
      "Retrieving from cache: http://www.usatoday.com/story/opinion/2016/02/10/colbert-noah-fallon-kimmel-corden-sanders-trump-punchlines-new-hampshire/80179418/\n",
      "Retrieving from cache: http://www.usatoday.com/story/opinion/2016/02/09/trump-sanders-wins-new-hampshire-economic-anxiety-column/80088548/\n",
      "Retrieving from cache: http://www.usatoday.com/story/opinion/2016/02/13/scalia-text-legacy-clerk-steven-calabresi-column/80349810/\n",
      "Retrieving from cache: http://www.usatoday.com/story/opinion/2016/02/12/ligo-discovery-impossible-without-public-funding-gravitational-waves-column/80253446/\n",
      "Retrieving from cache: http://www.usatoday.com/story/opinion/2016/02/15/trump-has-no-idea-how-to-be-president-stephen-hess/80401590/\n",
      "Retrieving from cache: http://www.usatoday.com/story/opinion/2016/02/15/antonin-scalia-supreme-court-recess-appointment-nomination-politics-obama-column/80379796/\n",
      "Retrieving from cache: http://www.usatoday.com/story/opinion/2016/02/10/new-hampshire-primary-donald-trump-bernie-sanders-tellusatoday-your-say/80202062/\n",
      "Retrieving from cache: http://www.usatoday.com/story/opinion/2016/02/09/bernie-sanders-hillary-clinton-new-hampshire-column/80094342/\n",
      "Retrieving from cache: http://www.usatoday.com/story/opinion/2016/02/11/hillary-clinton-speeches-goldman-sachs-wall-street-speaking-fees-editorials-debates/80233010/\n",
      "Retrieving from cache: http://www.usatoday.com/story/opinion/2016/02/09/new-hampshire-primary-donald-trump-bernie-sanders-editorials-debates/80091284/\n",
      "Retrieving from cache: http://www.usatoday.com/story/opinion/2016/02/10/hillary-clintons-woman-problem-column/80175130/\n",
      "Retrieving from cache: http://www.usatoday.com/story/opinion/2016/02/14/antonin-scalia-death-supreme-court-nomination-senate-obama-gonzales-column/80378246/\n",
      "Retrieving from cache: http://www.usatoday.com/story/opinion/2016/02/15/supreme-court-fight-assures-ugly-end-obama-era-david-corn-antonin-scalia-column/80374474/\n",
      "Retrieving from cache: http://www.usatoday.com/story/opinion/2016/02/14/justice-antonin-scalia-president-obama-mitch-mcconnell-editorials-debates/80375514/\n",
      "Retrieving from cache: http://www.usatoday.com/story/opinion/2016/02/14/bernie-sanders-henry-kissinger-richard-nixon-democratic-debate-column/80372646/\n",
      "Retrieving from cache: http://www.usatoday.com/story/opinion/2016/02/11/glenn-reynolds-socialism-bernie-sanders-young-millennial-voters-column/80169668/\n",
      "Retrieving from cache: http://www.usatoday.com/story/opinion/2016/02/12/valentines-day-jimmy-kimmel-james-corden-punchlines-funny/80289898/\n",
      "Retrieving from cache: http://www.usatoday.com/story/opinion/2016/02/14/religion-politics-gender-tellusatoday-your-say/80383622/\n",
      "Retrieving from cache: http://www.usatoday.com/story/opinion/2016/02/11/wesley-clark-russia-assadsyria-obama-conflict-column/80228140/\n",
      "Retrieving from cache: http://www.usatoday.com/story/opinion/2016/02/15/dogs-breeding-westminster-kennel-american-kennel-club-editorials-debates/80373002/\n",
      "Retrieving from cache: http://www.usatoday.com/story/opinion/2016/02/13/valentines-day-romance-marraige-flowers-fracking-column/80234586/\n",
      "Retrieving from cache: http://www.usatoday.com/story/opinion/voices/2016/02/15/voices-gomez-honduras-violence-central-america-unaccompanied-minors-immigration/80212272/\n",
      "Retrieving from cache: http://www.usatoday.com/story/opinion/2016/02/10/oil-tax-10-barrel-infrastructure-president-obama-climate-change-editorials-debates/80056688/\n",
      "Retrieving from cache: http://www.usatoday.com/story/opinion/2016/02/11/hillary-clinton-bernie-sanders-wall-street-lanny-davis-editorials-debates/80253414/\n",
      "Retrieving from cache: http://www.usatoday.com/story/opinion/2016/02/14/why-i-wrote-play-antonin-scalia-originalist-john-strand/80374808/\n",
      "Retrieving from cache: http://www.usatoday.com/story/opinion/2016/02/11/federal-budget-obama-deficits-debt-tellusatoday-your-say/80253310/\n",
      "Retrieving from cache: http://www.usatoday.com/story/opinion/2016/02/08/cal-thomas-elections-2016-god-religion-politics-evangelical-voters-column/79943324/\n",
      "Retrieving from cache: http://www.usatoday.com/story/opinion/2016/02/14/antonin-scalia-2016-presidential-election-voters-editorials-debates/80382050/\n",
      "Retrieving from cache: http://www.usatoday.com/story/opinion/2016/02/11/obama-budget-children-summer-food-hope-change-david-cay-johnston/80199860/\n",
      "Retrieving from cache: http://www.usatoday.com/story/opinion/2015/05/25/caption-contest-youtoon/1568271/\n",
      "Retrieving from cache: http://www.usatoday.com/story/opinion/2016/02/14/scalia-defining-moment-minority-rights-stephen-henderson/80372366/\n",
      "Retrieving from cache: http://www.usatoday.com/story/opinion/2016/02/12/top-threat-kurds-economy-not-isil-column/80228512/\n",
      "Retrieving from cache: http://www.usatoday.com/story/opinion/2016/02/15/jim-wallis-getting-personal-racism-black-lives-matter/79977654/\n",
      "Retrieving from cache: http://www.usatoday.com/story/opinion/2016/02/12/lindberg-draft-conscription-women-all-volunteer-force-courage-virtue-column/80169484/\n",
      "Retrieving from cache: http://www.usatoday.com/story/opinion/2016/02/15/hillary-clinton-feminism-sexism-bernie-bros-democratic-primary-2016-column/80374526/\n",
      "Retrieving from cache: http://www.usatoday.com/story/opinion/2016/02/09/our-votes-matter-voter-id-citizens-united-voting-rights-act-democracy-awakens-column/80068028/\n",
      "Retrieving from cache: http://www.usatoday.com/story/opinion/voices/2016/02/10/voices-staying-safe-dangerous-venues/80170178/\n",
      "Retrieving from cache: http://www.usatoday.com/story/opinion/2016/02/13/scalia-death-appreciation-politics-nomination-glenn-reynolds-column/80350008/\n",
      "Retrieving from cache: http://www.usatoday.com/story/opinion/2014/08/28/russia-ukraine-nato-vladimir-putin-president-obama-editorials-debates/14766425/\n",
      "Retrieving from cache: http://www.usatoday.com/story/opinion/2016/02/14/martin-shkreli-cam-newton-second-look-your-say/80383482/\n",
      "Retrieving from cache: http://www.usatoday.com/story/opinion/2016/02/15/american-kennel-club-westminster-kennel-club-dog-show-editorials-debates/80401688/\n",
      "Retrieving from cache: http://www.usatoday.com/story/opinion/2016/02/14/oil-tax-transportation-president-obama-your-say/80383560/\n",
      "Retrieving from cache: http://www.usatoday.com/story/opinion/2016/02/10/oil-prices-gasoline-revenue-american-petroleum-institute-editorials-debates/80193760/\n",
      "Retrieving from cache: http://www.usatoday.com/story/opinion/2016/02/10/anthem-cruise-ship-storm-your-say/80202290/\n",
      "Retrieving from cache: http://www.usatoday.com/story/opinion/2016/02/15/john-oliver-colin-jost-michael-che-punchlines-democracy-voting/80405220/\n",
      "Retrieving from cache: http://www.usatoday.com/story/opinion/2016/02/10/colbert-noah-fallon-kimmel-corden-sanders-trump-punchlines-new-hampshire/80179418/\n",
      "Retrieving from cache: http://www.usatoday.com/story/opinion/2016/02/09/trump-sanders-wins-new-hampshire-economic-anxiety-column/80088548/\n",
      "Retrieving from cache: http://www.usatoday.com/story/opinion/2016/02/13/scalia-text-legacy-clerk-steven-calabresi-column/80349810/\n",
      "Retrieving from cache: http://www.usatoday.com/story/opinion/2016/02/12/ligo-discovery-impossible-without-public-funding-gravitational-waves-column/80253446/\n",
      "Retrieving from cache: http://www.usatoday.com/story/opinion/2016/02/15/trump-has-no-idea-how-to-be-president-stephen-hess/80401590/\n",
      "Retrieving from cache: http://www.usatoday.com/story/opinion/2016/02/15/antonin-scalia-supreme-court-recess-appointment-nomination-politics-obama-column/80379796/\n",
      "Retrieving from cache: http://www.usatoday.com/story/opinion/2016/02/10/new-hampshire-primary-donald-trump-bernie-sanders-tellusatoday-your-say/80202062/\n",
      "Retrieving from cache: http://www.usatoday.com/story/opinion/columnists/stephen-henderson/2016/02/13/moments-defined-scalia-and-should-define-legacy/80355476/\n",
      "Retrieving from cache: http://www.usatoday.com/story/opinion/2016/02/09/bernie-sanders-hillary-clinton-new-hampshire-column/80094342/\n",
      "Retrieving from cache: http://www.usatoday.com/story/opinion/2016/02/11/hillary-clinton-speeches-goldman-sachs-wall-street-speaking-fees-editorials-debates/80233010/\n",
      "Retrieving from cache: http://www.usatoday.com/story/opinion/2016/02/09/new-hampshire-primary-donald-trump-bernie-sanders-editorials-debates/80091284/\n",
      "Retrieving from cache: http://www.usatoday.com/story/opinion/2016/02/10/hillary-clintons-woman-problem-column/80175130/\n",
      "Retrieving from cache: http://www.usatoday.com/story/opinion/2015/07/23/highway-funding-oil-gasoline-tax-fix-congress-editorials-debates/30579385/\n",
      "Retrieving from cache: http://www.usatoday.com/story/opinion/2016/02/14/antonin-scalia-death-supreme-court-nomination-senate-obama-gonzales-column/80378246/\n",
      "Retrieving from cache: http://www.usatoday.com/story/opinion/2016/02/15/supreme-court-fight-assures-ugly-end-obama-era-david-corn-antonin-scalia-column/80374474/\n",
      "Retrieving from cache: http://www.usatoday.com/story/opinion/2016/02/14/justice-antonin-scalia-president-obama-mitch-mcconnell-editorials-debates/80375514/\n",
      "Retrieving from cache: http://www.usatoday.com/story/opinion/2016/02/14/bernie-sanders-henry-kissinger-richard-nixon-democratic-debate-column/80372646/\n",
      "Retrieving from cache: http://www.usatoday.com/story/opinion/2016/02/11/glenn-reynolds-socialism-bernie-sanders-young-millennial-voters-column/80169668/\n",
      "Retrieving from cache: http://www.usatoday.com/story/opinion/2016/02/12/valentines-day-jimmy-kimmel-james-corden-punchlines-funny/80289898/\n",
      "Retrieving from cache: http://www.usatoday.com/story/opinion/2016/02/08/martin-shkreli-drug-prices-your-say/80026236/\n",
      "Retrieving from cache: http://www.usatoday.com/story/opinion/2016/02/14/religion-politics-gender-tellusatoday-your-say/80383622/\n",
      "Retrieving from cache: http://www.usatoday.com/story/opinion/2016/02/11/wesley-clark-russia-assadsyria-obama-conflict-column/80228140/\n",
      "Retrieving from cache: http://www.usatoday.com/story/opinion/2016/02/15/dogs-breeding-westminster-kennel-american-kennel-club-editorials-debates/80373002/\n",
      "Retrieving from cache: http://www.usatoday.com/story/opinion/2016/02/13/valentines-day-romance-marraige-flowers-fracking-column/80234586/\n",
      "Retrieving from cache: http://www.usatoday.com/story/opinion/voices/2016/02/15/voices-gomez-honduras-violence-central-america-unaccompanied-minors-immigration/80212272/\n",
      "Retrieving from cache: http://www.factcheck.org/askfactcheck/page/1/\n",
      "Retrieving from cache: http://www.factcheck.org/askfactcheck/page/2/\n",
      "Retrieving from cache: http://www.factcheck.org/askfactcheck/page/3/\n",
      "Retrieving from cache: http://www.factcheck.org/askfactcheck/page/4/\n",
      "Retrieving from cache: http://www.factcheck.org/askfactcheck/page/5/\n",
      "Retrieving from cache: http://www.factcheck.org/askfactcheck/page/6/\n",
      "Retrieving from cache: http://www.factcheck.org/askfactcheck/page/7/\n",
      "Retrieving from cache: http://www.factcheck.org/askfactcheck/page/8/\n",
      "Retrieving from cache: http://www.factcheck.org/askfactcheck/page/9/\n",
      "Retrieving from cache: http://www.factcheck.org/askfactcheck/page/10/\n",
      "Retrieving from cache: http://www.factcheck.org/2014/04/false-tax-claims/\n",
      "Retrieving from cache: http://www.factcheck.org/2012/02/dueling-debt-deceptions/\n",
      "Retrieving from cache: http://www.factcheck.org/2013/08/inspection-deception/\n",
      "Retrieving from cache: http://www.factcheck.org/2011/12/ron-pelosis-connection-to-tonopah-solar-energy/\n",
      "Retrieving from cache: http://www.factcheck.org/2011/05/is-obama-going-to-tax-drivers/\n",
      "Retrieving from cache: http://www.factcheck.org/2012/12/no-government-401k-takeover/\n",
      "Retrieving from cache: http://www.factcheck.org/2014/08/presidential-vacations/\n",
      "Retrieving from cache: http://www.factcheck.org/2013/12/michelle-obama-and-cgi-federal/\n",
      "Retrieving from cache: http://www.factcheck.org/2013/06/sen-feinsteins-husband-the-postal-service/\n",
      "Retrieving from cache: http://www.factcheck.org/2012/05/tax-credits-for-illegal-immigrants/\n",
      "Retrieving from cache: http://www.factcheck.org/2015/11/hillary-clinton-on-gun-deaths/\n",
      "Retrieving from cache: http://www.factcheck.org/2014/06/spinning-statistics-on-school-shootings/\n",
      "Retrieving from cache: http://www.factcheck.org/2013/12/no-back-door-gun-control/\n",
      "Retrieving from cache: http://www.factcheck.org/2012/06/the-obamas-law-licenses/\n",
      "Retrieving from cache: http://www.factcheck.org/2011/02/sorry-statistics/\n",
      "Retrieving from cache: http://www.factcheck.org/2011/03/congressional-reform-act/\n",
      "Retrieving from cache: http://www.factcheck.org/2010/10/the-chamber-and-foreign-contributions/\n",
      "Retrieving from cache: http://www.factcheck.org/2013/03/obamacare-to-cost-20000-a-family/\n",
      "Retrieving from cache: http://www.factcheck.org/2011/09/cherry-picking-on-regulation/\n",
      "Retrieving from cache: http://www.factcheck.org/2015/12/dearborns-anti-isis-rally/\n",
      "Retrieving from cache: http://www.factcheck.org/2012/04/realtors-the-3-8-sales-tax-and-247-medicare-premiums/\n",
      "Retrieving from cache: http://www.factcheck.org/2011/04/obama-and-the-pigford-cases/\n",
      "Retrieving from cache: http://www.factcheck.org/2014/06/charles-roots-not-related-to-ambassador-stevens/\n",
      "Retrieving from cache: http://www.factcheck.org/2013/04/twisting-feinsteins-words-on-military-vets/\n",
      "Retrieving from cache: http://www.factcheck.org/2012/10/talking-tax-breaks-for-offshoring/\n",
      "Retrieving from cache: http://www.factcheck.org/2013/05/congress-and-an-exemption-from-obamacare/\n",
      "Retrieving from cache: http://www.factcheck.org/2013/11/free-gas-for-low-income-americans/\n",
      "Retrieving from cache: http://www.factcheck.org/2013/09/cabelas-medical-tax-mistake/\n",
      "Retrieving from cache: http://www.factcheck.org/2012/11/is-obama-to-blame-for-lockheeds-123000-layoffs/\n",
      "Retrieving from cache: http://www.factcheck.org/2012/11/did-fema-create-a-youth-army/\n",
      "Retrieving from cache: http://www.factcheck.org/2014/07/surge-of-unaccompanied-children/\n",
      "Retrieving from cache: http://www.factcheck.org/2011/01/obama-guns-and-the-untouchables/\n",
      "Retrieving from cache: http://www.factcheck.org/2012/07/biggest-tax-increase-in-history/\n",
      "Retrieving from cache: http://www.factcheck.org/2012/03/alaskan-island-giveaway/\n",
      "Retrieving from cache: http://www.factcheck.org/2011/03/who-sells-american-gasoline/\n",
      "Retrieving from cache: http://www.factcheck.org/2011/10/change-in-military-funeral-protocol/\n",
      "Retrieving from cache: http://www.factcheck.org/2010/10/stimulating-the-dead/\n",
      "Retrieving from cache: http://www.factcheck.org/2013/10/aca-doesnt-restrict-mammograms/\n",
      "Retrieving from cache: http://www.factcheck.org/2013/05/court-martialed-for-sharing-religious-faith/\n",
      "Retrieving from cache: http://www.factcheck.org/2013/12/does-aca-cover-volunteer-firefighters/\n",
      "Retrieving from cache: http://www.factcheck.org/2011/07/the-traveling-president/\n",
      "Retrieving from cache: http://www.factcheck.org/2015/11/bogus-meme-targets-trump/\n",
      "Retrieving from cache: http://www.factcheck.org/2013/07/no-russian-troops-in-u-s/\n",
      "Retrieving from cache: http://www.factcheck.org/2011/01/congress-not-exempt-from-student-loans/\n",
      "Retrieving from cache: http://www.factcheck.org/2013/11/who-holds-our-debt/\n",
      "Retrieving from cache: http://www.factcheck.org/2015/03/ted-cruzs-presidential-eligibility/\n",
      "Retrieving from cache: http://www.factcheck.org/2013/01/voting-conspiracies/\n",
      "Retrieving from cache: http://www.factcheck.org/2015/05/jade-helm-not-martial-law/\n",
      "Retrieving from cache: http://www.factcheck.org/2011/06/obamas-bumbles/\n",
      "Retrieving from cache: http://www.factcheck.org/2014/11/no-new-world-order/\n",
      "Retrieving from cache: http://www.factcheck.org/2012/06/how-much-is-the-obamacare-tax/\n",
      "Retrieving from cache: http://www.factcheck.org/2011/12/the-gingrich-divorce-myth/\n",
      "Retrieving from cache: http://www.factcheck.org/2015/02/amnesty-bonuses/\n",
      "Retrieving from cache: http://www.factcheck.org/2015/03/king-v-burwell-fallout/\n",
      "Retrieving from cache: http://www.factcheck.org/2014/05/medicare-under-observation/\n",
      "Retrieving from cache: http://www.factcheck.org/2015/02/conflating-costs-of-the-aca/\n",
      "Retrieving from cache: http://www.factcheck.org/2014/03/a-false-claim-of-a-medicare-change/\n",
      "Retrieving from cache: http://www.factcheck.org/2012/11/did-undelivered-military-ballots-give-election-to-obama/\n",
      "Retrieving from cache: http://www.factcheck.org/2011/08/top-20-white-house-raises/\n",
      "Retrieving from cache: http://www.factcheck.org/2011/04/planned-parenthood/\n",
      "Retrieving from cache: http://www.factcheck.org/2012/09/gms-government-sales/\n",
      "Retrieving from cache: http://www.factcheck.org/2012/08/muslim-prayer-service-at-the-dnc/\n",
      "Retrieving from cache: http://www.factcheck.org/2015/01/congressional-pensions-update/\n",
      "Retrieving from cache: http://www.factcheck.org/2011/03/funding-mosques-overseas/\n",
      "Retrieving from cache: http://www.factcheck.org/2012/06/still-no-international-gun-ban-treaty/\n",
      "Retrieving from cache: http://www.factcheck.org/2011/11/we-repeat-still-a-christmas-tree/\n",
      "Retrieving from cache: http://www.factcheck.org/2014/01/medicaid-estate-recovery-program/\n",
      "Retrieving from cache: http://www.factcheck.org/2011/10/george-soros-gun-grab/\n",
      "Retrieving from cache: http://www.factcheck.org/2010/12/fostering-a-fortune/\n",
      "Retrieving from cache: http://www.factcheck.org/2010/12/health-care-law-waivers/\n",
      "Retrieving from cache: http://www.factcheck.org/2011/01/obamas-not-invited-to-royal-wedding/\n",
      "Retrieving from cache: http://www.factcheck.org/2013/01/death-spiral-states/\n",
      "Retrieving from cache: http://www.factcheck.org/2011/05/energy-efficient-bulb-costs/\n",
      "Retrieving from cache: http://www.factcheck.org/2013/01/child-homicides/\n",
      "Retrieving from cache: http://www.factcheck.org/2011/06/secret-service-tattletales/\n",
      "Retrieving from cache: http://www.factcheck.org/2012/01/neurological-death-panels/\n",
      "Retrieving from cache: http://www.factcheck.org/2015/11/senators-missing-votes/\n",
      "Retrieving from cache: http://www.factcheck.org/2012/02/did-obama-approve-bridge-work-for-chinese-firms/\n",
      "Retrieving from cache: http://www.factcheck.org/2011/04/premium-nonsense-on-medicare/\n",
      "Retrieving from cache: http://www.factcheck.org/2010/12/tsa-not-to-blame-for-this/\n",
      "Retrieving from cache: http://www.factcheck.org/2010/11/blame-jane-falsehoods/\n",
      "Retrieving from cache: http://www.factcheck.org/2012/11/does-tagg-romney-own-ohio-voting-machines/\n",
      "Retrieving from cache: http://www.factcheck.org/2011/02/millions-with-preexisting-conditions/\n",
      "Retrieving from cache: http://www.factcheck.org/2012/08/about-those-republican-cuts/\n",
      "Retrieving from cache: http://www.factcheck.org/2012/05/obama-criminalize-free-speech/\n",
      "Retrieving from cache: http://www.factcheck.org/2010/11/muslims-appointed-to-homeland-security/\n",
      "Retrieving from cache: http://www.factcheck.org/2015/05/coming-to-america/\n",
      "Retrieving from cache: http://www.factcheck.org/2011/04/fun-with-deficit-statistics/\n",
      "Retrieving from cache: http://www.factcheck.org/2012/04/death-panels-redux/\n",
      "Retrieving from cache: http://www.factcheck.org/2015/06/resettling-syrian-refugees/\n",
      "Retrieving from cache: http://www.factcheck.org/2016/02/debunking-obamas-dubai-domicile/\n",
      "Retrieving from cache: http://www.factcheck.org/2012/09/obamas-executive-orders/\n",
      "Retrieving from cache: http://www.factcheck.org/2010/11/ask-factcheck-trip-to-mumbai/\n",
      "Retrieving from cache: http://www.factcheck.org/2011/08/obamas-canadian-american-bus/\n",
      "Retrieving from cache: http://www.factcheck.org/2011/07/did-obama-enact-dream-act/\n",
      "Retrieving from cache: http://www.factcheck.org/2013/10/sex-questions-from-your-doctor/\n",
      "Retrieving from cache: http://www.factcheck.org/2011/02/irs-and-the-health-care-law-part-ii/\n",
      "Retrieving from cache: http://www.factcheck.org/2012/06/is-gm-becoming-china-motors/\n",
      "Retrieving from cache: http://www.factcheck.org/2012/07/obamas-sealed-records/\n",
      "Retrieving from cache: http://www.factcheck.org/2014/12/does-aca-give-incentive-to-hire-immigrants/\n"
     ]
    }
   ],
   "source": [
    "corpus = build_corpus()"
   ]
  },
  {
   "cell_type": "code",
   "execution_count": 12,
   "metadata": {
    "collapsed": true
   },
   "outputs": [],
   "source": [
    "def vectorize(list_of_texts):\n",
    "    \"\"\"Return feature vectors for each entity given list of texts.\"\"\"\n",
    "    vectorizer = TfidfVectorizer(analyzer = \"word\",\n",
    "                                 tokenizer = None,\n",
    "                                 preprocessor = None,\n",
    "                                 stop_words = None,\n",
    "                                 max_features = 500)\n",
    "    compressed_vectors = vectorizer.fit_transform(list_of_texts)\n",
    "    return compressed_vectors.toarray()"
   ]
  },
  {
   "cell_type": "code",
   "execution_count": 5,
   "metadata": {
    "collapsed": false
   },
   "outputs": [
    {
     "name": "stdout",
     "output_type": "stream",
     "text": [
      "['project', 'annenberg', 'public', 'policy', 'center', 'is', 'not', 'good']\n"
     ]
    }
   ],
   "source": [
    "\n",
    "sample = 'project annenberg public policy center is not good'\n",
    "test = sample.split()\n",
    "print(test)"
   ]
  },
  {
   "cell_type": "code",
   "execution_count": 29,
   "metadata": {
    "collapsed": false
   },
   "outputs": [
    {
     "name": "stdout",
     "output_type": "stream",
     "text": [
      "{'JJ': 0.03125, 'NN': 0.005859375, 'VBZ': 0.03125, 'RB': 0.125}\n"
     ]
    }
   ],
   "source": [
    "# Generate Part-Of-Speech tag and associated features \n",
    "\n",
    "def gen_pos_tag(article):\n",
    "    '''Param: article is a list of words from an individual article\n",
    "       Return: A dictionary of the ratio of each tag type'''\n",
    "    modifiers = ['JJ', 'JJR', 'JJS', 'RB', 'RBR', 'RBS']\n",
    "    past_tense = ['VBD', 'VBN']\n",
    "    modifiers\n",
    "    total = len(article)\n",
    "    tags = nltk.pos_tag(article)\n",
    "    tags_count = {}\n",
    "    for (w,t) in tags:\n",
    "        tags_count[t] = tags_count.get(t, 0) + 1\n",
    "    for (w,t) in tags:\n",
    "        tags_count[t] /= total\n",
    "    return tags_count\n"
   ]
  },
  {
   "cell_type": "code",
   "execution_count": null,
   "metadata": {
    "collapsed": true
   },
   "outputs": [],
   "source": []
  },
  {
   "cell_type": "code",
   "execution_count": 10,
   "metadata": {
    "collapsed": false
   },
   "outputs": [
    {
     "name": "stdout",
     "output_type": "stream",
     "text": [
      "['project', 'annenberg', 'public', 'policy', 'center', 'is', 'not', 'good_NEG']\n"
     ]
    }
   ],
   "source": [
    "# Negation\n",
    "import nltk\n",
    "from nltk.sentiment import SentimentAnalyzer\n",
    "from nltk.sentiment.util import *\n",
    "\n",
    "def mark_negations(article):\n",
    "    '''attach NEG tag to the negation'''\n",
    "    sentim_analyzer = SentimentAnalyzer()\n",
    "    article = mark_negation(article)\n",
    "    return article\n",
    "\n",
    "l = mark_negations(test)\n",
    "print(l)"
   ]
  },
  {
   "cell_type": "code",
   "execution_count": 44,
   "metadata": {
    "collapsed": true
   },
   "outputs": [],
   "source": [
    "def compute_scores_for_n(data, k=5):\n",
    "    \n",
    "    num_instances = len(data)\n",
    "    num_in_fold = num_instances // 5\n",
    "    \n",
    "    scores = []\n",
    "    for i in range(k):\n",
    "        training_set = (data[0:i*num_in_fold] + \n",
    "                    data[(i+1)*num_in_fold:])\n",
    "        test_set = data[i*num_in_fold: (i+1)*num_in_fold]\n",
    "\n",
    "        X_train = vectorize([\" \".join(article) for article, tag in training_set])\n",
    "        y_train = [tag for article, tag in training_set]\n",
    "        X_test = vectorize([\" \".join(article) for article, tag in test_set])\n",
    "        y_true = [tag for article, tag in test_set]\n",
    "        \n",
    "        clf = RandomForestClassifier().fit(X_train, y_train)\n",
    "        y_pred = clf.predict(X_test)\n",
    "\n",
    "        score = metrics.f1_score(y_true, y_pred, average=\"weighted\")\n",
    "        print(score)\n",
    "        scores.append(score)\n",
    "\n",
    "    return sum(scores)/len(scores)"
   ]
  },
  {
   "cell_type": "code",
   "execution_count": 45,
   "metadata": {
    "collapsed": false,
    "scrolled": true
   },
   "outputs": [
    {
     "name": "stderr",
     "output_type": "stream",
     "text": [
      "//anaconda/lib/python3.5/site-packages/sklearn/metrics/classification.py:976: DeprecationWarning: From version 0.18, binary input will not be handled specially when using averaged precision/recall/F-score. Please use average='binary' to report only the positive class performance.\n",
      "  'positive class performance.', DeprecationWarning)\n",
      "//anaconda/lib/python3.5/site-packages/sklearn/metrics/classification.py:976: DeprecationWarning: From version 0.18, binary input will not be handled specially when using averaged precision/recall/F-score. Please use average='binary' to report only the positive class performance.\n",
      "  'positive class performance.', DeprecationWarning)\n"
     ]
    },
    {
     "name": "stdout",
     "output_type": "stream",
     "text": [
      "0.529411764706\n",
      "0.75\n",
      "0.484848484848"
     ]
    },
    {
     "name": "stderr",
     "output_type": "stream",
     "text": [
      "//anaconda/lib/python3.5/site-packages/sklearn/metrics/classification.py:976: DeprecationWarning: From version 0.18, binary input will not be handled specially when using averaged precision/recall/F-score. Please use average='binary' to report only the positive class performance.\n",
      "  'positive class performance.', DeprecationWarning)\n",
      "//anaconda/lib/python3.5/site-packages/sklearn/metrics/classification.py:976: DeprecationWarning: From version 0.18, binary input will not be handled specially when using averaged precision/recall/F-score. Please use average='binary' to report only the positive class performance.\n",
      "  'positive class performance.', DeprecationWarning)\n"
     ]
    },
    {
     "name": "stdout",
     "output_type": "stream",
     "text": [
      "\n",
      "0.387096774194\n",
      "0.484848484848\n"
     ]
    },
    {
     "name": "stderr",
     "output_type": "stream",
     "text": [
      "//anaconda/lib/python3.5/site-packages/sklearn/metrics/classification.py:976: DeprecationWarning: From version 0.18, binary input will not be handled specially when using averaged precision/recall/F-score. Please use average='binary' to report only the positive class performance.\n",
      "  'positive class performance.', DeprecationWarning)\n"
     ]
    },
    {
     "data": {
      "text/plain": [
       "0.52724110171928007"
      ]
     },
     "execution_count": 45,
     "metadata": {},
     "output_type": "execute_result"
    }
   ],
   "source": [
    "compute_scores_for_n(corpus)"
   ]
  },
  {
   "cell_type": "code",
   "execution_count": 41,
   "metadata": {
    "collapsed": true
   },
   "outputs": [],
   "source": [
    "from sklearn.ensemble import RandomForestClassifier\n",
    "from sklearn.svm import SVC\n",
    "from sklearn.tree import DecisionTreeClassifier\n",
    "from sklearn import metrics"
   ]
  },
  {
   "cell_type": "code",
   "execution_count": null,
   "metadata": {
    "collapsed": true
   },
   "outputs": [],
   "source": []
  }
 ],
 "metadata": {
  "kernelspec": {
   "display_name": "Python 3",
   "language": "python",
   "name": "python3"
  },
  "language_info": {
   "codemirror_mode": {
    "name": "ipython",
    "version": 3
   },
   "file_extension": ".py",
   "mimetype": "text/x-python",
   "name": "python",
   "nbconvert_exporter": "python",
   "pygments_lexer": "ipython3",
   "version": "3.5.1"
  }
 },
 "nbformat": 4,
 "nbformat_minor": 0
}
