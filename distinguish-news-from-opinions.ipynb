{
 "cells": [
  {
   "cell_type": "code",
   "execution_count": 40,
   "metadata": {
    "collapsed": true
   },
   "outputs": [],
   "source": [
    "import urllib.request, time, re, random, hashlib\n",
    "from bs4 import BeautifulSoup \n",
    "import string\n",
    "from sklearn.feature_extraction.text import CountVectorizer\n",
    "from scipy.spatial.distance import cosine\n",
    "from itertools import combinations\n",
    "from scipy.cluster import hierarchy\n",
    "from scipy.spatial import distance\n",
    "%matplotlib osx\n"
   ]
  },
  {
   "cell_type": "code",
   "execution_count": 41,
   "metadata": {
    "collapsed": true
   },
   "outputs": [],
   "source": [
    "# Compassionate Caching inspired by \n",
    "# http://lethain.com/an-introduction-to-compassionate-screenscraping/\n",
    "\n",
    "last_fetched_at = None\n",
    "\n",
    "def fetch(url):\n",
    "    \"\"\"Load the url compassionately.\"\"\"\n",
    "    \n",
    "    global last_fetched_at\n",
    "    \n",
    "    url_hash = hashlib.sha1(url.encode()).hexdigest()\n",
    "    filename = 'cache-file-{}'.format(url_hash)\n",
    "    try:\n",
    "        with open(filename, 'r') as f:\n",
    "            result = f.read()\n",
    "            if len(result) > 0:\n",
    "                print(\"Retrieving from cache:\", url)\n",
    "                return result\n",
    "    except:\n",
    "        pass\n",
    "    \n",
    "    print(\"Loading:\", url)\n",
    "    wait_interval = random.randint(3000,10000)\n",
    "    if last_fetched_at is not None:\n",
    "        now = time.time()\n",
    "        elapsed = now - last_fetched_at\n",
    "        if elapsed < wait_interval:\n",
    "            time.sleep((wait_interval - elapsed)/1000)\n",
    "        \n",
    "    user_agent = 'Mozilla/5.0 (Windows NT 6.1; Win64; x64)'\n",
    "    headers = { 'User-Agent' : user_agent }\n",
    "    req = urllib.request.Request(url, headers = headers)\n",
    "    last_fetched_at = time.time()\n",
    "    with urllib.request.urlopen(req) as response:\n",
    "        result = str(response.read())\n",
    "        with open(filename, 'w') as f:\n",
    "            f.write(result)\n",
    "        return result"
   ]
  },
  {
   "cell_type": "code",
   "execution_count": 42,
   "metadata": {
    "collapsed": true
   },
   "outputs": [],
   "source": [
    "class Entity(object):\n",
    "    def __init__(self, name):\n",
    "        self.name = name\n",
    "        self.words = None\n",
    "        self.vector = None"
   ]
  },
  {
   "cell_type": "code",
   "execution_count": 43,
   "metadata": {
    "collapsed": true
   },
   "outputs": [],
   "source": [
    "def get_search_results(entity):\n",
    "    \"\"\"Return an html with search results for given entity.\"\"\"  \n",
    "    name = entity.name\n",
    "    url_encoded_name = name.replace(' ', '%20')\n",
    "    result = fetch('http://www.usatoday.com'+ '/search/' + url_encoded_name + '/')\n",
    "    return result"
   ]
  },
  {
   "cell_type": "code",
   "execution_count": 44,
   "metadata": {
    "collapsed": true
   },
   "outputs": [],
   "source": [
    "def get_articles(results_html, n=3):\n",
    "    \"\"\"Return a list of article htmls for given search results html.\"\"\"\n",
    "    soupify_result = BeautifulSoup(results_html, 'html.parser')\n",
    "    link_results = soupify_result.find_all('a', attrs={'class':'search-result-item-link'})\n",
    "    domain = 'http://www.usatoday.com'\n",
    "    articles = []\n",
    "    num_result = 0\n",
    "    for link in link_results:\n",
    "        # this excludes any video, audio results\n",
    "        if (link['href'].startswith('/story') and num_result < n):\n",
    "            # the links are relevant links, convert them to absolute links\n",
    "            article = fetch(domain+link['href'])\n",
    "            articles.append(article)\n",
    "            num_result += 1\n",
    "    return articles"
   ]
  },
  {
   "cell_type": "code",
   "execution_count": 45,
   "metadata": {
    "collapsed": true
   },
   "outputs": [],
   "source": [
    "from nltk.corpus import stopwords\n",
    "from nltk import word_tokenize\n",
    "\n",
    "def get_words(articles):\n",
    "    \"\"\"Return list of representative words from a list of article htmls.\"\"\"\n",
    "    bag_of_words = []\n",
    "    for article in articles:\n",
    "        soupify_article = BeautifulSoup(article,'html.parser')\n",
    "        paragraphs = soupify_article.find_all('p',attrs={'class':None})\n",
    "        for p in paragraphs:\n",
    "            if p.parent.name != 'a':\n",
    "                words = word_tokenize(p.text)\n",
    "                filtered_words = [w.lower() for w in words if w.isalpha()]\n",
    "                filtered_stop_words = [w for w in filtered_words if w not in stopwords.words('english')]\n",
    "                bag_of_words += filtered_stop_words\n",
    "        \n",
    "    bag_of_words = set(bag_of_words)\n",
    "    return bag_of_words"
   ]
  },
  {
   "cell_type": "code",
   "execution_count": 46,
   "metadata": {
    "collapsed": true
   },
   "outputs": [],
   "source": [
    "def get_bag_of_words(entity):\n",
    "    results = get_search_results(entity)\n",
    "    articles = get_articles(results,3)\n",
    "    return get_words(articles)"
   ]
  },
  {
   "cell_type": "code",
   "execution_count": 47,
   "metadata": {
    "collapsed": true
   },
   "outputs": [
    {
     "name": "stdout",
     "output_type": "stream",
     "text": [
      "Loading: http://www.usatoday.com/search/hillary%20clinton/\n",
      "Loading: http://www.usatoday.com/story/news/politics/elections/2016/2016/02/02/cruz-topples-trump-clinton-sanders-await-final-tally/79685690/\n",
      "Loading: http://www.usatoday.com/story/news/politics/onpolitics/2016/02/02/hillary-clinton-new-hampshire-iowa-democrats/79700614/\n",
      "Loading: http://www.usatoday.com/story/news/politics/elections/2016/2016/02/03/young-supporters-drive-sanders-virtual-tie-clinton/79739492/\n",
      "{'jeffrey', 'folks', 'laughter', 'loss', 'respective', 'registering', 'since', 'showed', 'city', 'helped', 'won', 'theme', 'declined', 'worked', 'focus', 'ames', 'reminded', 'economic', 'slimmest', 'embarrassment', 'volunteers', 'nashua', 'photo', 'juggernaut', 'questions', 'revolution', 'age', 'separating', 'number', 'polling', 'cedar', 'maryland', 'move', 'strong', 'error', 'described', 'ago', 'thus', 'willing', 'vote', 'jubilant', 'reflection', 'big', 'total', 'together', 'introduced', 'sound', 'worth', 'political', 'result', 'consortium', 'already', 'states', 'part', 'sure', 'represented', 'decision', 'believe', 'attention', 'lost', 'clinton', 'see', 'freely', 'thanked', 'changing', 'locking', 'billed', 'delegate', 'look', 'ted', 'massachusetts', 'also', 'first', 'preaching', 'reported', 'spending', 'think', 'keene', 'racked', 'advertising', 'combined', 'good', 'important', 'credit', 'caucuses', 'unsuccessful', 'hardy', 'conclusion', 'comes', 'rural', 'shot', 'policies', 'surprised', 'jackson', 'room', 'way', 'least', 'continues', 'god', 'deficit', 'directly', 'pays', 'michael', 'outlets', 'incredible', 'margin', 'triumphantly', 'register', 'grassroots', 'adorned', 'stone', 'organizational', 'candidate', 'president', 'winner', 'heavy', 'point', 'ages', 'counties', 'possible', 'rania', 'easily', 'map', 'infused', 'arrived', 'pool', 'fervently', 'ensuing', 'democrats', 'exit', 'believed', 'nearly', 'tell', 'expected', 'encompassing', 'lead', 'secretary', 'takes', 'words', 'harshest', 'spokeswoman', 'stand', 'illness', 'coverage', 'spent', 'thing', 'chris', 'contrast', 'course', 'something', 'ducking', 'workers', 'enjoyed', 'completely', 'claim', 'last', 'party', 'closest', 'major', 'ended', 'strongholds', 'january', 'stronger', 'still', 'leads', 'agriculture', 'texas', 'younger', 'owes', 'avoided', 'lieutenant', 'play', 'older', 'nevada', 'years', 'neighboring', 'large', 'metro', 'treasurer', 'brian', 'upcoming', 'claimed', 'change', 'showing', 'power', 'precincts', 'riding', 'supported', 'gap', 'falls', 'sides', 'finish', 'delivered', 'working', 'night', 'case', 'points', 'today', 'organization', 'recent', 'quite', 'show', 'des', 'areas', 'endorsement', 'edison', 'morning', 'interviewed', 'majorities', 'attendees', 'pat', 'piled', 'talking', 'months', 'definitely', 'hampshire', 'separated', 'supporters', 'order', 'kevin', 'powerful', 'blowouts', 'murphy', 'wears', 'davenport', 'caucused', 'addressing', 'afternoon', 'politics', 'several', 'work', 'spokesman', 'slowly', 'thought', 'comeback', 'must', 'proposals', 'contests', 'largest', 'weeks', 'caucusing', 'voters', 'achieving', 'sioux', 'lifted', 'ever', 'late', 'judge', 'fascinating', 'bacon', 'trump', 'next', 'woodbury', 'differential', 'lower', 'executive', 'solace', 'dominating', 'florida', 'bubble', 'actually', 'latino', 'march', 'community', 'lifetime', 'south', 'rubio', 'starkly', 'record', 'david', 'comprised', 'holds', 'firewall', 'tweets', 'supporter', 'iowa', 'given', 'organizing', 'never', 'predicted', 'advertised', 'shift', 'trounced', 'however', 'somewhat', 'arkansas', 'chip', 'identified', 'primary', 'able', 'keep', 'participants', 'fought', 'putting', 'bernie', 'christie', 'vice', 'recently', 'landscape', 'white', 'beat', 'statewide', 'would', 'among', 'go', 'advantage', 'broke', 'like', 'increased', 'bill', 'underestimating', 'come', 'took', 'finally', 'entrance', 'fourth', 'democrat', 'center', 'paper', 'better', 'cruz', 'clergy', 'three', 'contributing', 'line', 'tweeted', 'huckabee', 'live', 'goodbyes', 'know', 'time', 'mcguire', 'individual', 'released', 'caucus', 'strength', 'bless', 'carried', 'conservative', 'get', 'likely', 'competing', 'favoring', 'well', 'established', 'gop', 'implementing', 'sentiment', 'noble', 'polls', 'dominate', 'say', 'comparison', 'voice', 'homes', 'justin', 'predicting', 'hard', 'affluent', 'follow', 'strongly', 'friendly', 'sense', 'later', 'hillary', 'placed', 'place', 'quarters', 'house', 'turnout', 'caucusgoers', 'inspiring', 'intensified', 'tim', 'super', 'surprise', 'repeat', 'literally', 'money', 'virtual', 'came', 'sullivan', 'breathing', 'dallas', 'history', 'va', 'national', 'every', 'favored', 'edwards', 'give', 'review', 'parts', 'participated', 'questioning', 'twitter', 'accounted', 'scott', 'turned', 'race', 'reflecting', 'kid', 'lenski', 'neighborhood', 'beyond', 'solid', 'year', 'sorting', 'turnouts', 'media', 'second', 'ceded', 'hawk', 'jason', 'quipped', 'clayworth', 'shout', 'candidates', 'edged', 'event', 'call', 'wave', 'earners', 'sit', 'even', 'heavily', 'whose', 'primaries', 'nice', 'staffers', 'enthusiasm', 'meeting', 'republicans', 'moines', 'deserves', 'minnesota', 'kummer', 'country', 'two', 'fueled', 'new', 'hours', 'fight', 'suburban', 'iowans', 'prize', 'many', 'winning', 'mclean', 'presidential', 'experience', 'made', 'minority', 'arguing', 'drake', 'buttons', 'cases', 'communities', 'et', 'win', 'college', 'mark', 'jumps', 'seen', 'crisis', 'back', 'barely', 'may', 'told', 'game', 'republican', 'independents', 'effective', 'colorado', 'saying', 'granted', 'minds', 'people', 'massive', 'replicate', 'expects', 'sick', 'victories', 'rescuing', 'joe', 'support', 'flipped', 'denunciation', 'boy', 'rally', 'going', 'alabama', 'went', 'gang', 'former', 'nab', 'western', 'spotlight', 'backed', 'limits', 'activist', 'wooing', 'grasp', 'gone', 'take', 'hefty', 'staffer', 'blamed', 'batrice', 'filed', 'results', 'almost', 'times', 'shrugged', 'captured', 'includes', 'narrowest', 'tie', 'rynard', 'capitalized', 'cash', 'poll', 'leaders', 'projected', 'olmstead', 'percentage', 'put', 'final', 'weighed', 'concerns', 'senator', 'saving', 'obama', 'coming', 'lot', 'university', 'monday', 'allegiance', 'john', 'campaigning', 'landed', 'criticize', 'dynamics', 'exurban', 'one', 'serous', 'advance', 'less', 'husband', 'narrowed', 'observers', 'county', 'mike', 'great', 'getty', 'office', 'day', 'marco', 'instance', 'different', 'reports', 'began', 'make', 'sites', 'either', 'records', 'days', 'state', 'side', 'linn', 'warren', 'though', 'invested', 'ordinary', 'overwhelmingly', 'shock', 'campaign', 'entirely', 'successful', 'urban', 'afterward', 'month', 'long', 'home', 'seven', 'another', 'said', 'wealthier', 'council', 'thrilled', 'biggest', 'except', 'let', 'pressing', 'failed', 'martin', 'complained', 'nominee', 'victory', 'speaks', 'wife', 'polk', 'bit', 'story', 'nomination', 'could', 'little', 'unusual', 'backer', 'single', 'derailed', 'tonight', 'images', 'barack', 'momentum', 'dozens', 'achenbach', 'ask', 'audience', 'silence', 'black', 'expanded', 'end', 'encouraged', 'patty', 'ground', 'vermont', 'respectively', 'granite', 'makes', 'saw', 'eight', 'advocated', 'started', 'tuesday', 'key', 'saturday', 'third', 'choice', 'share', 'flips', 'hat', 'kept', 'votes', 'briggs', 'coalition', 'continue', 'within', 'blogger', 'jab', 'paid', 'dominated', 'northern', 'declared', 'week', 'fitzgerald', 'jasonnobledmr', 'done', 'video', 'vest', 'bid', 'unturned', 'top', 'including', 'election', 'everything', 'precinct', 'around', 'declare', 'disaffected', 'prospects', 'economy', 'tenure', 'success', 'field', 'rush', 'gracious', 'towns', 'supporting', 'close', 'sanders', 'early', 'margins', 'brighter', 'research', 'rapids', 'races', 'million', 'awake', 'twice', 'experts', 'bigger', 'chops', 'across', 'carolina', 'cnn', 'countered', 'governor', 'marched', 'competitive', 'eventually', 'hopeful', 'delegates', 'operation', 'democratic'}\n"
     ]
    }
   ],
   "source": [
    "entity = Entity('hillary clinton')\n",
    "entity.words = get_bag_of_words(entity)\n",
    "print(entity.words)"
   ]
  },
  {
   "cell_type": "code",
   "execution_count": null,
   "metadata": {
    "collapsed": true
   },
   "outputs": [],
   "source": []
  },
  {
   "cell_type": "code",
   "execution_count": null,
   "metadata": {
    "collapsed": true
   },
   "outputs": [],
   "source": []
  }
 ],
 "metadata": {
  "kernelspec": {
   "display_name": "Python 3",
   "language": "python",
   "name": "python3"
  },
  "language_info": {
   "codemirror_mode": {
    "name": "ipython",
    "version": 3
   },
   "file_extension": ".py",
   "mimetype": "text/x-python",
   "name": "python",
   "nbconvert_exporter": "python",
   "pygments_lexer": "ipython3",
   "version": "3.5.1"
  }
 },
 "nbformat": 4,
 "nbformat_minor": 0
}
